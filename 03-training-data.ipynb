{
 "cells": [
  {
   "cell_type": "markdown",
   "metadata": {},
   "source": [
    "these should be good training sets"
   ]
  },
  {
   "cell_type": "code",
   "execution_count": 2,
   "metadata": {},
   "outputs": [],
   "source": [
    "import h5py\n",
    "import numpy as np\n",
    "def load_image( filepath, leaf='MDF/images/0/image', astype='uint8' ):\n",
    "    \"\"\" load the specified hdf file and look for a 3d intensity map; normalise output \"\"\"\n",
    "    f = h5py.File(filepath)\n",
    "    # f.visit(print)\n",
    "    d = f[leaf].value\n",
    "    print('%s,\\tshape=%s,\\tmin=%s,\\tmax=%s,\\tmean=%s,\\tstd=%s' % (filepath, d.shape, np.min(d), np.max(d), np.mean(d), np.std(d)) )\n",
    "    return d, d.shape\n",
    "\n",
    "def load_tomogram( d ):\n",
    "    data = {}\n",
    "    dim = None\n",
    "    for (label,filepath) in d.items():\n",
    "        data[label], this_dim = load_image(filepath)\n",
    "        if not dim:\n",
    "            dim = this_dim\n",
    "        else:\n",
    "            if not dim == this_dim:\n",
    "                raise IOException(\"Inconsistent tomogram dimensions for %s, expecting %s (got %s)\" % (filepath,dim,this_dim))\n",
    "    return data, dim"
   ]
  },
  {
   "cell_type": "markdown",
   "metadata": {},
   "source": [
    "# IPSC"
   ]
  },
  {
   "cell_type": "markdown",
   "metadata": {},
   "source": [
    "This has ok microtuble annotations"
   ]
  },
  {
   "cell_type": "code",
   "execution_count": 4,
   "metadata": {},
   "outputs": [
    {
     "name": "stdout",
     "output_type": "stream",
     "text": [
      "/gpfs/slac/cryo/fs1/g/tomo-seg/IPSC_18Q_mitoc_bin4//IPSC_16Q_mitoc_bin4.hdf,\tshape=(163, 959, 927),\tmin=-3.0,\tmax=3.0,\tmean=0.0034683787,\tstd=0.96926576\n",
      "/gpfs/slac/cryo/fs1/g/tomo-seg/IPSC_18Q_mitoc_bin4//microtubule_data.hdf,\tshape=(163, 959, 927),\tmin=-17.878578,\tmax=16.931873,\tmean=-0.006367644,\tstd=0.33884934\n"
     ]
    }
   ],
   "source": [
    "base_dir=\"/gpfs/slac/cryo/fs1/g/tomo-seg/IPSC_18Q_mitoc_bin4/\"\n",
    "tomo, dimensions = load_tomogram( {\n",
    "    'raw':        base_dir+\"/IPSC_16Q_mitoc_bin4.hdf\",\n",
    "    'mt':         base_dir+\"/microtubule_data.hdf\",\n",
    "} )"
   ]
  },
  {
   "cell_type": "markdown",
   "metadata": {},
   "source": [
    "There should be a value to determine the threshold for display for each layer"
   ]
  },
  {
   "cell_type": "code",
   "execution_count": 4,
   "metadata": {},
   "outputs": [
    {
     "name": "stdout",
     "output_type": "stream",
     "text": [
      "MDF\n",
      "MDF/images\n",
      "    imageid_max: [0]\n",
      "MDF/images/0\n",
      "    EMAN.HostEndian: b'little'\n",
      "    EMAN.ImageEndian: b'big'\n",
      "    EMAN.MRC.alpha: [90.]\n",
      "    EMAN.MRC.beta: [90.]\n",
      "    EMAN.MRC.gamma: [90.]\n",
      "    EMAN.MRC.ispg: [1]\n",
      "    EMAN.MRC.label0: b'CCDERASER: Bad points replaced with interpolated values  9-May-18  16:12:22     '\n",
      "    EMAN.MRC.label1: b'NEWSTACK: Images copied, transformed                     9-May-18  16:28:37     '\n",
      "    EMAN.MRC.label2: b'TILT: Tomographic reconstruction                         9-May-18   16:51:13    '\n",
      "    EMAN.MRC.label3: b'NEWSTACK: Images copied                                  9-May-18  17:06:18     '\n",
      "    EMAN.MRC.label4: b'clip: flipyz                                            09-May-18  17:08:50    '\n",
      "    EMAN.MRC.machinestamp: [17476]\n",
      "    EMAN.MRC.mapc: [1]\n",
      "    EMAN.MRC.mapr: [2]\n",
      "    EMAN.MRC.maps: [3]\n",
      "    EMAN.MRC.maximum: [3418.]\n",
      "    EMAN.MRC.mean: [7.366249]\n",
      "    EMAN.MRC.minimum: [-3213.]\n",
      "    EMAN.MRC.mx: [3710]\n",
      "    EMAN.MRC.my: [3838]\n",
      "    EMAN.MRC.mz: [655]\n",
      "    EMAN.MRC.nlabels: [5]\n",
      "    EMAN.MRC.nsymbt: [0]\n",
      "    EMAN.MRC.nx: [3710]\n",
      "    EMAN.MRC.nxstart: [0]\n",
      "    EMAN.MRC.ny: [3838]\n",
      "    EMAN.MRC.nystart: [0]\n",
      "    EMAN.MRC.nz: [655]\n",
      "    EMAN.MRC.nzstart: [0]\n",
      "    EMAN.MRC.rms: [-1.]\n",
      "    EMAN.MRC.xlen: [16635.8]\n",
      "    EMAN.MRC.ylen: [17209.758]\n",
      "    EMAN.MRC.zlen: [2937.0483]\n",
      "    EMAN.apix_x: [17.936172]\n",
      "    EMAN.apix_y: [17.936172]\n",
      "    EMAN.apix_z: [17.936172]\n",
      "    EMAN.changecount: [4]\n",
      "    EMAN.datatype: [7]\n",
      "    EMAN.is_complex: [0]\n",
      "    EMAN.is_complex_ri: [0]\n",
      "    EMAN.is_complex_x: [0]\n",
      "    EMAN.is_fftodd: [0]\n",
      "    EMAN.is_fftpad: [0]\n",
      "    EMAN.maximum: [16.931873]\n",
      "    EMAN.mean: [-0.00636765]\n",
      "    EMAN.mean_nonzero: [-0.01950684]\n",
      "    EMAN.minimum: [-17.878578]\n",
      "    EMAN.npad: [1]\n",
      "    EMAN.nx: [927]\n",
      "    EMAN.ny: [959]\n",
      "    EMAN.nz: [163]\n",
      "    EMAN.origin_x: [-286.9788]\n",
      "    EMAN.origin_y: [1793.6172]\n",
      "    EMAN.origin_z: [286.97876]\n",
      "    EMAN.sigma: [0.33885288]\n",
      "    EMAN.sigma_nonzero: [0.59286606]\n",
      "    EMAN.source_n: [0]\n",
      "    EMAN.source_path: b'IPSC_16Q_mitoc_bin4.hdf'\n",
      "    EMAN.square_sum: [16644151.]\n",
      "MDF/images/0/image\n"
     ]
    }
   ],
   "source": [
    "f = h5py.File('/gpfs/slac/cryo/fs1/g/tomo-seg/IPSC_18Q_mitoc_bin4/microtubule_data.hdf')\n",
    "def print_attrs(name, obj):\n",
    "    print(name)\n",
    "    for key, val in obj.attrs.items():\n",
    "        print( \"    %s: %s\" % (key, val))\n",
    "f.visititems(print_attrs)"
   ]
  },
  {
   "cell_type": "code",
   "execution_count": 5,
   "metadata": {},
   "outputs": [],
   "source": [
    "d = f['MDF/images/0/image'].value"
   ]
  },
  {
   "cell_type": "code",
   "execution_count": 6,
   "metadata": {},
   "outputs": [
    {
     "data": {
      "text/plain": [
       "(163, 959, 927)"
      ]
     },
     "execution_count": 6,
     "metadata": {},
     "output_type": "execute_result"
    }
   ],
   "source": [
    "d.shape"
   ]
  },
  {
   "cell_type": "code",
   "execution_count": 7,
   "metadata": {},
   "outputs": [],
   "source": [
    "e = d.reshape( (1,d.shape[0]*d.shape[1]*d.shape[2]))"
   ]
  },
  {
   "cell_type": "code",
   "execution_count": null,
   "metadata": {},
   "outputs": [],
   "source": [
    "import seaborn as sns\n",
    "import matplotlib.pyplot as plt\n",
    "from scipy import stats\n",
    "\n",
    "sns.distplot(e, kde=False, rug=True);\n"
   ]
  },
  {
   "cell_type": "code",
   "execution_count": null,
   "metadata": {},
   "outputs": [],
   "source": []
  }
 ],
 "metadata": {
  "kernelspec": {
   "display_name": "Python 3",
   "language": "python",
   "name": "python3"
  },
  "language_info": {
   "codemirror_mode": {
    "name": "ipython",
    "version": 3
   },
   "file_extension": ".py",
   "mimetype": "text/x-python",
   "name": "python",
   "nbconvert_exporter": "python",
   "pygments_lexer": "ipython3",
   "version": "3.6.3"
  }
 },
 "nbformat": 4,
 "nbformat_minor": 2
}
